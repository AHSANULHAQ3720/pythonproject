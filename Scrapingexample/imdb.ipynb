{
 "cells": [
  {
   "cell_type": "code",
   "execution_count": 103,
   "metadata": {},
   "outputs": [],
   "source": [
    "from bs4 import BeautifulSoup\n",
    "import requests\n",
    "import pandas as pd \n",
    "\n",
    "url = 'https://www.imdb.com/chart/top/'\n",
    "headers = {\n",
    "    'User-Agent': 'Mozilla/5.0 (Windows NT 10.0; Win64; x64) AppleWebKit/537.36 (KHTML, like Gecko) Chrome/97.0.4692.71 Safari/537.36'\n",
    "}\n",
    "\n",
    "response = requests.get(url, headers=headers)\n",
    "\n",
    "if response.status_code == 200:\n",
    "    soup = BeautifulSoup(response.content, 'html.parser')\n",
    "    # Now you can continue with your parsing logic\n",
    "else:\n",
    "    print(\"Failed to retrieve the page. Status code:\", response.status_code)\n"
   ]
  },
  {
   "cell_type": "code",
   "execution_count": 104,
   "metadata": {},
   "outputs": [
    {
     "name": "stdout",
     "output_type": "stream",
     "text": [
      "None\n"
     ]
    }
   ],
   "source": [
    "movie_names = []\n",
    "year_releases = []\n",
    "movie_times = []\n",
    "movie_classes = []\n",
    "\n",
    "movies = soup.find_all('li',class_='ipc-metadata-list-summary-item')\n",
    "for element in movies:\n",
    "    movie_name = element.find('h3',class_= 'ipc-title__text').text\n",
    "    year_release = element.find('div',class_='sc-1e00898e-7 hcJWUf cli-title-metadata').text[0:4]\n",
    "    movie_time = element.find('div',class_ = 'sc-1e00898e-7 hcJWUf cli-title-metadata').text[4:10]\n",
    "    movie_class = element.find('div',class_ = 'sc-1e00898e-7 hcJWUf cli-title-metadata').text[10:]\n",
    "    \n",
    "\n",
    "    movie_names.append(movie_name)\n",
    "    year_releases.append(year_release)\n",
    "    movie_times.append(movie_time)\n",
    "    movie_classes.append(movie_class)\n",
    "\n",
    "df = pd.DataFrame({\n",
    "    \"Name\":movie_names,\n",
    "    \"Release\":year_releases,\n",
    "    \"Duration\":movie_times,\n",
    "    \"Class\":movie_classes\n",
    "})\n",
    "\n",
    "# print(df.sample(5))\n",
    "print(df.to_csv('Top 250 Movies.csv' , index=False))\n"
   ]
  },
  {
   "cell_type": "code",
   "execution_count": null,
   "metadata": {},
   "outputs": [],
   "source": []
  }
 ],
 "metadata": {
  "kernelspec": {
   "display_name": "Python 3",
   "language": "python",
   "name": "python3"
  },
  "language_info": {
   "codemirror_mode": {
    "name": "ipython",
    "version": 3
   },
   "file_extension": ".py",
   "mimetype": "text/x-python",
   "name": "python",
   "nbconvert_exporter": "python",
   "pygments_lexer": "ipython3",
   "version": "3.11.4"
  }
 },
 "nbformat": 4,
 "nbformat_minor": 2
}
