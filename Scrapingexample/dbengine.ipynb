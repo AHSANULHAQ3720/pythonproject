{
 "cells": [
  {
   "cell_type": "code",
   "execution_count": 1,
   "metadata": {},
   "outputs": [],
   "source": [
    "import pandas as pd \n",
    "import requests as re \n",
    "from bs4 import BeautifulSoup "
   ]
  },
  {
   "cell_type": "code",
   "execution_count": 2,
   "metadata": {},
   "outputs": [
    {
     "name": "stdout",
     "output_type": "stream",
     "text": [
      "connection succesful\n"
     ]
    }
   ],
   "source": [
    "# connection guidline\n",
    "url = \"https://db-engines.com/en/ranking\"\n",
    "headers = {\n",
    "    'User-Agent': 'Mozilla/5.0 (Windows NT 10.0; Win64; x64) AppleWebKit/537.36 (KHTML, like Gecko) Chrome/97.0.4692.71 Safari/537.36'\n",
    "}\n",
    "response = re.get(url,headers=headers)\n",
    "\n",
    "if response.status_code == 200:\n",
    "    print(\"connection succesful\")\n",
    "else:\n",
    "    print(\"connection problem\")\n"
   ]
  },
  {
   "cell_type": "code",
   "execution_count": 3,
   "metadata": {},
   "outputs": [
    {
     "data": {
      "text/html": [
       "<div>\n",
       "<style scoped>\n",
       "    .dataframe tbody tr th:only-of-type {\n",
       "        vertical-align: middle;\n",
       "    }\n",
       "\n",
       "    .dataframe tbody tr th {\n",
       "        vertical-align: top;\n",
       "    }\n",
       "\n",
       "    .dataframe thead th {\n",
       "        text-align: right;\n",
       "    }\n",
       "</style>\n",
       "<table border=\"1\" class=\"dataframe\">\n",
       "  <thead>\n",
       "    <tr style=\"text-align: right;\">\n",
       "      <th></th>\n",
       "      <th>Name</th>\n",
       "      <th>Link</th>\n",
       "    </tr>\n",
       "  </thead>\n",
       "  <tbody>\n",
       "    <tr>\n",
       "      <th>0</th>\n",
       "      <td>Oracle</td>\n",
       "      <td>https://db-engines.com/en/system/Oracle</td>\n",
       "    </tr>\n",
       "    <tr>\n",
       "      <th>1</th>\n",
       "      <td>MySQL</td>\n",
       "      <td>https://db-engines.com/en/system/MySQL</td>\n",
       "    </tr>\n",
       "    <tr>\n",
       "      <th>2</th>\n",
       "      <td>Microsoft SQL Server</td>\n",
       "      <td>https://db-engines.com/en/system/Microsoft+SQL...</td>\n",
       "    </tr>\n",
       "    <tr>\n",
       "      <th>3</th>\n",
       "      <td>PostgreSQL</td>\n",
       "      <td>https://db-engines.com/en/system/PostgreSQL</td>\n",
       "    </tr>\n",
       "    <tr>\n",
       "      <th>4</th>\n",
       "      <td>MongoDB</td>\n",
       "      <td>https://db-engines.com/en/system/MongoDB</td>\n",
       "    </tr>\n",
       "    <tr>\n",
       "      <th>...</th>\n",
       "      <td>...</td>\n",
       "      <td>...</td>\n",
       "    </tr>\n",
       "    <tr>\n",
       "      <th>412</th>\n",
       "      <td>SpaceTime</td>\n",
       "      <td>https://db-engines.com/en/system/SpaceTime</td>\n",
       "    </tr>\n",
       "    <tr>\n",
       "      <th>413</th>\n",
       "      <td>Tkrzw</td>\n",
       "      <td>https://db-engines.com/en/system/Tkrzw</td>\n",
       "    </tr>\n",
       "    <tr>\n",
       "      <th>414</th>\n",
       "      <td>Transwarp Hippo</td>\n",
       "      <td>https://db-engines.com/en/system/Transwarp+Hippo</td>\n",
       "    </tr>\n",
       "    <tr>\n",
       "      <th>415</th>\n",
       "      <td>Transwarp StellarDB</td>\n",
       "      <td>https://db-engines.com/en/system/Transwarp+Ste...</td>\n",
       "    </tr>\n",
       "    <tr>\n",
       "      <th>416</th>\n",
       "      <td>VelocityDB</td>\n",
       "      <td>https://db-engines.com/en/system/VelocityDB</td>\n",
       "    </tr>\n",
       "  </tbody>\n",
       "</table>\n",
       "<p>417 rows × 2 columns</p>\n",
       "</div>"
      ],
      "text/plain": [
       "                      Name                                               Link\n",
       "0                  Oracle             https://db-engines.com/en/system/Oracle\n",
       "1                   MySQL              https://db-engines.com/en/system/MySQL\n",
       "2    Microsoft SQL Server   https://db-engines.com/en/system/Microsoft+SQL...\n",
       "3              PostgreSQL         https://db-engines.com/en/system/PostgreSQL\n",
       "4                 MongoDB            https://db-engines.com/en/system/MongoDB\n",
       "..                     ...                                                ...\n",
       "412              SpaceTime         https://db-engines.com/en/system/SpaceTime\n",
       "413                  Tkrzw             https://db-engines.com/en/system/Tkrzw\n",
       "414        Transwarp Hippo   https://db-engines.com/en/system/Transwarp+Hippo\n",
       "415    Transwarp StellarDB  https://db-engines.com/en/system/Transwarp+Ste...\n",
       "416             VelocityDB        https://db-engines.com/en/system/VelocityDB\n",
       "\n",
       "[417 rows x 2 columns]"
      ]
     },
     "execution_count": 3,
     "metadata": {},
     "output_type": "execute_result"
    }
   ],
   "source": [
    "# Get all DB information\n",
    "soup = BeautifulSoup(response.text , 'html.parser')\n",
    "tableelement = soup.find_all('table',class_='dbi')\n",
    "\n",
    "dbmsname  = []\n",
    "dblinks  = []\n",
    "dbtypes = []\n",
    "\n",
    "for element in tableelement:\n",
    "    dblist = element.find_all('th',class_ = 'pad-l')\n",
    "    dbtype = element.find_all('th', class_ = 'small pad-r')\n",
    "    for dbs in dblist:\n",
    "        dbname = dbs.find('a').text.split('Detailed vendor-provided information available')[0]\n",
    "        dblink = dbs.find('a').get('href')\n",
    "\n",
    "        dbmsname.append(dbname)\n",
    "        dblinks.append(dblink)\n",
    "\n",
    "\n",
    "df = pd.DataFrame({\n",
    "    \"Name\":dbmsname,\n",
    "    \"Link\":dblinks\n",
    "})\n",
    "\n",
    "df.drop_duplicates().reset_index(drop='true')\n",
    "\n",
    "        "
   ]
  },
  {
   "cell_type": "markdown",
   "metadata": {},
   "source": []
  },
  {
   "cell_type": "markdown",
   "metadata": {},
   "source": []
  }
 ],
 "metadata": {
  "kernelspec": {
   "display_name": "Python 3",
   "language": "python",
   "name": "python3"
  },
  "language_info": {
   "codemirror_mode": {
    "name": "ipython",
    "version": 3
   },
   "file_extension": ".py",
   "mimetype": "text/x-python",
   "name": "python",
   "nbconvert_exporter": "python",
   "pygments_lexer": "ipython3",
   "version": "3.11.4"
  }
 },
 "nbformat": 4,
 "nbformat_minor": 2
}
