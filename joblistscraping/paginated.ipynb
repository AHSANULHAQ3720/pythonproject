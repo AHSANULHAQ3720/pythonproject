{
 "cells": [
  {
   "cell_type": "code",
   "execution_count": 37,
   "metadata": {},
   "outputs": [
    {
     "name": "stdout",
     "output_type": "stream",
     "text": [
      "DataFrame saved to 'jobs_data.csv'\n"
     ]
    }
   ],
   "source": [
    "import requests\n",
    "from bs4 import BeautifulSoup\n",
    "import pandas as pd\n",
    "# import pyshorteners\n",
    "\n",
    "# Empty lists to store data\n",
    "company_names = []\n",
    "job_skills = []\n",
    "job_names = []\n",
    "posted_ons = []\n",
    "more_infos = []\n",
    "\n",
    "for i in range(2):  # Changed the range to scrape 20 pages\n",
    "    url = f'https://www.timesjobs.com/candidate/job-search.html?from=submit&luceneResultSize=25&txtKeywords=Python&postWeek=60&searchType=personalizedSearch&actualTxtKeywords=Python&searchBy=0&rdoOperator=OR&pDate=I&sequence={i}&startPage=1'\n",
    "    html_text = requests.get(url).text\n",
    "    soup = BeautifulSoup(html_text, 'lxml')\n",
    "\n",
    "    job_listcard = soup.find_all('li', class_='clearfix job-bx wht-shd-bx')\n",
    "    \n",
    "    for job in job_listcard:\n",
    "        if 'few' in posted_on:\n",
    "            job_name = job.find('strong', class_='blkclor').text.strip()\n",
    "            company_name = job.find('h3', class_='joblist-comp-name').text.strip()\n",
    "            job_skill = job.find('span', class_='srp-skills').text.strip()\n",
    "            posted_on = job.find('span', 'sim-posted').span.text.strip()\n",
    "            more_info = job.header.h2.a['href']  # This line extracts the href attribute correctly\n",
    "\n",
    "            # Append data to lists\n",
    "            company_names.append(company_name)\n",
    "            job_skills.append(job_skill)\n",
    "            job_names.append(job_name)\n",
    "            posted_ons.append(posted_on)\n",
    "            more_infos.append(more_info)\n",
    "\n",
    "# Create DataFrame\n",
    "jobs_df = pd.DataFrame({\n",
    "    'Company Name': company_names,\n",
    "    'Job Skill': job_skills,\n",
    "    'Job Name': job_names,\n",
    "    'Posted On': posted_ons,\n",
    "    'More Info': more_infos\n",
    "})\n",
    "\n",
    "# Save DataFrame to CSV\n",
    "jobs_df.to_csv('jobs_data.csv', index=False)\n",
    "\n",
    "print(\"DataFrame saved to 'jobs_data.csv'\")\n"
   ]
  },
  {
   "cell_type": "code",
   "execution_count": 38,
   "metadata": {},
   "outputs": [
    {
     "name": "stdout",
     "output_type": "stream",
     "text": [
      "CSV Created Succesfully\n"
     ]
    }
   ],
   "source": [
    "scrapejob()"
   ]
  }
 ],
 "metadata": {
  "kernelspec": {
   "display_name": "Python 3",
   "language": "python",
   "name": "python3"
  },
  "language_info": {
   "codemirror_mode": {
    "name": "ipython",
    "version": 3
   },
   "file_extension": ".py",
   "mimetype": "text/x-python",
   "name": "python",
   "nbconvert_exporter": "python",
   "pygments_lexer": "ipython3",
   "version": "3.11.4"
  }
 },
 "nbformat": 4,
 "nbformat_minor": 2
}
