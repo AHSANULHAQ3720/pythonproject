{
 "cells": [
  {
   "cell_type": "code",
   "execution_count": null,
   "metadata": {},
   "outputs": [],
   "source": [
    "import requests\n",
    "import pandas as pd\n",
    "import time\n",
    "from datetime import datetime\n",
    "from bs4 import BeautifulSoup\n",
    "import pyshorteners"
   ]
  },
  {
   "cell_type": "code",
   "execution_count": 4,
   "metadata": {},
   "outputs": [],
   "source": [
    "def scrapejob():\n",
    "    url = 'https://www.timesjobs.com/candidate/job-search.html?searchType=personalizedSearch&from=submit&searchTextSrc=&searchTextText=&txtKeywords=Python&txtLocation='\n",
    "    html_text = requests.get(url).text\n",
    "    soup = BeautifulSoup(html_text,'lxml')\n",
    "\n",
    "    job_listcard = soup.find_all('li',class_ = 'clearfix job-bx wht-shd-bx')\n",
    "    for job in job_listcard:\n",
    "        posted_on = job.find('span','sim-posted').span.text.strip()\n",
    "\n",
    "        if 'few' in posted_on:\n",
    "            posted_on = job.find('span','sim-posted').span.text.strip()\n",
    "            job_name = job.find('strong',class_='blkclor').text.replace(' ','').strip()\n",
    "            company_name = job.find('h3',class_='joblist-comp-name').text.replace(' ','').strip()\n",
    "            job_skill =  job.find('span',class_='srp-skills').text.replace(' ','').strip()\n",
    "            posted_on = job.find('span','sim-posted').span.text.strip()\n",
    "            url = pyshorteners.Shortener()\n",
    "            more_info = url.tinyurl.short(job.header.h2.a['href'])\n",
    "\n",
    "            print(f'''\n",
    "            company_name : {company_name}\n",
    "            job_skill : {job_skill}\n",
    "            job_name : {job_name}\n",
    "            posted_on : {posted_on}\n",
    "            more_info : {more_info}\n",
    "            '''\n",
    "            )\n",
    "\n",
    "\n",
    "if __name__ == '__main__':\n",
    "    while True:\n",
    "        scrapejob()\n",
    "        time.sleep(60)\n",
    "        print(\"Progam rerun in 60 seconds\")\n",
    "\n",
    "\n"
   ]
  },
  {
   "cell_type": "code",
   "execution_count": null,
   "metadata": {},
   "outputs": [],
   "source": []
  }
 ],
 "metadata": {
  "kernelspec": {
   "display_name": "Python 3",
   "language": "python",
   "name": "python3"
  },
  "language_info": {
   "codemirror_mode": {
    "name": "ipython",
    "version": 3
   },
   "file_extension": ".py",
   "mimetype": "text/x-python",
   "name": "python",
   "nbconvert_exporter": "python",
   "pygments_lexer": "ipython3",
   "version": "3.11.4"
  }
 },
 "nbformat": 4,
 "nbformat_minor": 2
}
