{
 "cells": [
  {
   "cell_type": "code",
   "execution_count": null,
   "metadata": {},
   "outputs": [],
   "source": [
    "url = \"https://official-joke-api.appspot.com/jokes/ten\"\n",
    "import requests\n",
    "import pandas as pd \n",
    "import json\n",
    "import json_normalize\n",
    "\n",
    "data = requests.get(url)\n",
    "result = json.loads(data.text)\n",
    "\n",
    "df = pd.DataFrame(result)\n",
    "df.drop(columns=[\"type\",\"id\"],inplace=True)\n",
    "df"
   ]
  }
 ],
 "metadata": {
  "kernelspec": {
   "display_name": "Python 3",
   "language": "python",
   "name": "python3"
  },
  "language_info": {
   "codemirror_mode": {
    "name": "ipython",
    "version": 3
   },
   "file_extension": ".py",
   "mimetype": "text/x-python",
   "name": "python",
   "nbconvert_exporter": "python",
   "pygments_lexer": "ipython3",
   "version": "3.11.4"
  }
 },
 "nbformat": 4,
 "nbformat_minor": 2
}
